{
 "cells": [
  {
   "cell_type": "markdown",
   "id": "f7414e82-3b53-4baf-b7fc-f2f1a06effd5",
   "metadata": {},
   "source": [
    "## 1. DataTypes & Attributes\n",
    "- axis=0 => Dimensions\n",
    "- axis=1 => Rows\n",
    "- axis=2 => Columns"
   ]
  },
  {
   "cell_type": "code",
   "execution_count": 1,
   "id": "17b7024e-c220-4b1c-9131-dd45df3c8cd1",
   "metadata": {},
   "outputs": [],
   "source": [
    "# Import numpy\n",
    "import numpy as np"
   ]
  },
  {
   "cell_type": "code",
   "execution_count": 13,
   "id": "3b1b1b40-ab04-4a94-a84e-6ea0e247182b",
   "metadata": {},
   "outputs": [
    {
     "data": {
      "text/plain": [
       "array([1, 2, 3])"
      ]
     },
     "execution_count": 13,
     "metadata": {},
     "output_type": "execute_result"
    }
   ],
   "source": [
    "# Numpy's main datatypes is ndarray\n",
    "a1 = np.array([1, 2, 3])\n",
    "a1"
   ]
  },
  {
   "cell_type": "code",
   "execution_count": 31,
   "id": "e95c7bc7-9ebb-4728-8e74-df7933adb5e2",
   "metadata": {},
   "outputs": [
    {
     "data": {
      "text/plain": [
       "array([[1. , 2.2, 3. ],\n",
       "       [4.7, 5. , 6. ]])"
      ]
     },
     "execution_count": 31,
     "metadata": {},
     "output_type": "execute_result"
    }
   ],
   "source": [
    "# numpy 2 dimension\n",
    "a2 = np.array([[1, 2.2,3],\n",
    "              [4.7, 5, 6]])\n",
    "a2"
   ]
  },
  {
   "cell_type": "code",
   "execution_count": 15,
   "id": "0ffe6437-f6a9-4e9f-9d00-a6544c154a83",
   "metadata": {},
   "outputs": [
    {
     "data": {
      "text/plain": [
       "array([[[ 1,  2,  3],\n",
       "        [ 4,  5,  6]],\n",
       "\n",
       "       [[ 7,  8,  9],\n",
       "        [10, 11, 12]],\n",
       "\n",
       "       [[13, 14, 15],\n",
       "        [16, 17, 18]]])"
      ]
     },
     "execution_count": 15,
     "metadata": {},
     "output_type": "execute_result"
    }
   ],
   "source": [
    "# numpy 3 dimension\n",
    "a3 = np.array([[[1, 2, 3],\n",
    "               [4, 5, 6]],\n",
    "              [[7, 8, 9],\n",
    "              [10, 11, 12]],\n",
    "              [[13, 14, 15],\n",
    "              [16, 17, 18]]])\n",
    "a3"
   ]
  },
  {
   "cell_type": "code",
   "execution_count": 21,
   "id": "b408e401-b12e-4b20-98cf-950aed40fab6",
   "metadata": {},
   "outputs": [
    {
     "data": {
      "text/plain": [
       "(3,)"
      ]
     },
     "execution_count": 21,
     "metadata": {},
     "output_type": "execute_result"
    }
   ],
   "source": [
    "\"\"\"\n",
    "Dimension = 1\n",
    "Row = 1\n",
    "Columns = 3\n",
    "\"\"\"\n",
    "a1.shape"
   ]
  },
  {
   "cell_type": "code",
   "execution_count": 27,
   "id": "d26d567d-596d-49c2-8f37-067dfe6b24b0",
   "metadata": {},
   "outputs": [
    {
     "data": {
      "text/plain": [
       "(2, 3)"
      ]
     },
     "execution_count": 27,
     "metadata": {},
     "output_type": "execute_result"
    }
   ],
   "source": [
    "\"\"\"\n",
    "Dimension = 2\n",
    "Row = 2\n",
    "Columns = 3\n",
    "\"\"\"\n",
    "a2.shape"
   ]
  },
  {
   "cell_type": "code",
   "execution_count": 25,
   "id": "aba397e1-8037-44dc-9b85-2102b28adfdb",
   "metadata": {},
   "outputs": [
    {
     "data": {
      "text/plain": [
       "(3, 2, 3)"
      ]
     },
     "execution_count": 25,
     "metadata": {},
     "output_type": "execute_result"
    }
   ],
   "source": [
    "\"\"\"\n",
    "Dimensions = 3\n",
    "Row = 2\n",
    "Columns = 3\n",
    "\"\"\"\n",
    "a3.shape"
   ]
  },
  {
   "cell_type": "code",
   "execution_count": 28,
   "id": "ba30a21c-3c5f-48df-a3de-82d21096a87a",
   "metadata": {},
   "outputs": [
    {
     "data": {
      "text/plain": [
       "(1, 2, 3)"
      ]
     },
     "execution_count": 28,
     "metadata": {},
     "output_type": "execute_result"
    }
   ],
   "source": [
    "# to see array dimensions\n",
    "a1.ndim, a2.ndim, a3.ndim"
   ]
  },
  {
   "cell_type": "code",
   "execution_count": 32,
   "id": "245b5df8-655d-4bae-a8cd-d31100b5613f",
   "metadata": {},
   "outputs": [
    {
     "data": {
      "text/plain": [
       "(dtype('int64'), dtype('float64'), dtype('int64'))"
      ]
     },
     "execution_count": 32,
     "metadata": {},
     "output_type": "execute_result"
    }
   ],
   "source": [
    "# to check the data type of an array\n",
    "a1.dtype, a2.dtype, a3.dtype"
   ]
  },
  {
   "cell_type": "code",
   "execution_count": 34,
   "id": "b38407f0-232a-481f-8825-4d3e83dd1361",
   "metadata": {},
   "outputs": [
    {
     "data": {
      "text/plain": [
       "(3, 6, 18)"
      ]
     },
     "execution_count": 34,
     "metadata": {},
     "output_type": "execute_result"
    }
   ],
   "source": [
    "# to check the total number of elements in an array\n",
    "a1.size, a2.size, a3.size"
   ]
  },
  {
   "cell_type": "code",
   "execution_count": 36,
   "id": "414b5111-04c7-453d-960f-c7ff4ea2b157",
   "metadata": {},
   "outputs": [
    {
     "data": {
      "text/html": [
       "<div>\n",
       "<style scoped>\n",
       "    .dataframe tbody tr th:only-of-type {\n",
       "        vertical-align: middle;\n",
       "    }\n",
       "\n",
       "    .dataframe tbody tr th {\n",
       "        vertical-align: top;\n",
       "    }\n",
       "\n",
       "    .dataframe thead th {\n",
       "        text-align: right;\n",
       "    }\n",
       "</style>\n",
       "<table border=\"1\" class=\"dataframe\">\n",
       "  <thead>\n",
       "    <tr style=\"text-align: right;\">\n",
       "      <th></th>\n",
       "      <th>0</th>\n",
       "      <th>1</th>\n",
       "      <th>2</th>\n",
       "    </tr>\n",
       "  </thead>\n",
       "  <tbody>\n",
       "    <tr>\n",
       "      <th>0</th>\n",
       "      <td>1.0</td>\n",
       "      <td>2.2</td>\n",
       "      <td>3.0</td>\n",
       "    </tr>\n",
       "    <tr>\n",
       "      <th>1</th>\n",
       "      <td>4.7</td>\n",
       "      <td>5.0</td>\n",
       "      <td>6.0</td>\n",
       "    </tr>\n",
       "  </tbody>\n",
       "</table>\n",
       "</div>"
      ],
      "text/plain": [
       "     0    1    2\n",
       "0  1.0  2.2  3.0\n",
       "1  4.7  5.0  6.0"
      ]
     },
     "execution_count": 36,
     "metadata": {},
     "output_type": "execute_result"
    }
   ],
   "source": [
    "# Create DataFrame from a NumPy\n",
    "import pandas as pd\n",
    "\n",
    "df = pd.DataFrame(a2)\n",
    "df"
   ]
  },
  {
   "cell_type": "markdown",
   "id": "99d17d7a-81bc-4918-b460-66e4b7a24e88",
   "metadata": {},
   "source": [
    "## 2. Creating Arrays"
   ]
  },
  {
   "cell_type": "code",
   "execution_count": 55,
   "id": "8d5251d1-b696-43cd-a44a-b9bc25588c33",
   "metadata": {},
   "outputs": [
    {
     "data": {
      "text/plain": [
       "array([[1, 1, 1],\n",
       "       [1, 1, 1]])"
      ]
     },
     "execution_count": 55,
     "metadata": {},
     "output_type": "execute_result"
    }
   ],
   "source": [
    "# Create numpy array with 1\n",
    "ones = np.ones((2, 3), dtype=int)\n",
    "ones"
   ]
  },
  {
   "cell_type": "code",
   "execution_count": 56,
   "id": "d24adacf-e089-412c-8250-250570687e12",
   "metadata": {},
   "outputs": [
    {
     "data": {
      "text/plain": [
       "array([[0, 0, 0],\n",
       "       [0, 0, 0]])"
      ]
     },
     "execution_count": 56,
     "metadata": {},
     "output_type": "execute_result"
    }
   ],
   "source": [
    "# Create numpy array with 0\n",
    "zeros = np.zeros((2, 3), dtype=int)\n",
    "zeros"
   ]
  },
  {
   "cell_type": "markdown",
   "id": "d97adc92-4386-4ce1-a838-852c228f5d4d",
   "metadata": {},
   "source": [
    "- .ones & .zeros to make a tamplate"
   ]
  },
  {
   "cell_type": "code",
   "execution_count": 45,
   "id": "eb61b312-ed02-427a-915e-fdf190238661",
   "metadata": {},
   "outputs": [
    {
     "data": {
      "text/plain": [
       "array([ 0,  2,  4,  6,  8, 10, 12, 14, 16, 18])"
      ]
     },
     "execution_count": 45,
     "metadata": {},
     "output_type": "execute_result"
    }
   ],
   "source": [
    "range_array = np.arange(0, 20, 2)\n",
    "range_array"
   ]
  },
  {
   "cell_type": "code",
   "execution_count": 47,
   "id": "c5990989-12c5-4fc6-9606-cfe01609c526",
   "metadata": {},
   "outputs": [
    {
     "data": {
      "text/plain": [
       "array([[5, 7, 9, 6, 7],\n",
       "       [5, 9, 7, 6, 5]], dtype=int32)"
      ]
     },
     "execution_count": 47,
     "metadata": {},
     "output_type": "execute_result"
    }
   ],
   "source": [
    "random_array = np.random.randint(5, 10, size=(2, 5))\n",
    "random_array"
   ]
  },
  {
   "cell_type": "code",
   "execution_count": 48,
   "id": "7c45415d-b00e-4373-9cf1-58ce3018baf7",
   "metadata": {},
   "outputs": [
    {
     "data": {
      "text/plain": [
       "(2, 5)"
      ]
     },
     "execution_count": 48,
     "metadata": {},
     "output_type": "execute_result"
    }
   ],
   "source": [
    "random_array.shape"
   ]
  },
  {
   "cell_type": "code",
   "execution_count": 49,
   "id": "82fe2b99-6801-45d7-bb14-84a4b11065c7",
   "metadata": {},
   "outputs": [
    {
     "data": {
      "text/plain": [
       "array([[0.30215841, 0.83635079, 0.29647501, 0.02225029, 0.97832569],\n",
       "       [0.45124492, 0.09336053, 0.66479159, 0.3764266 , 0.75983766],\n",
       "       [0.45424693, 0.49662297, 0.0092727 , 0.6532922 , 0.40259121]])"
      ]
     },
     "execution_count": 49,
     "metadata": {},
     "output_type": "execute_result"
    }
   ],
   "source": [
    "random_array_2 = np.random.random(size=(3, 5))\n",
    "random_array_2"
   ]
  },
  {
   "cell_type": "code",
   "execution_count": 50,
   "id": "65f312e8-f5a9-44f5-9214-8165d8b7bad2",
   "metadata": {},
   "outputs": [
    {
     "data": {
      "text/plain": [
       "(3, 5)"
      ]
     },
     "execution_count": 50,
     "metadata": {},
     "output_type": "execute_result"
    }
   ],
   "source": [
    "random_array_2.shape"
   ]
  },
  {
   "cell_type": "code",
   "execution_count": 57,
   "id": "cc7fbd58-2c76-498d-9f13-5f238037e20f",
   "metadata": {},
   "outputs": [
    {
     "data": {
      "text/plain": [
       "array([[[9.24673181e-01, 5.96076892e-01, 5.66777264e-01],\n",
       "        [3.74945033e-01, 6.97289589e-01, 9.33694015e-01]],\n",
       "\n",
       "       [[4.93707346e-01, 7.78325240e-02, 7.18600213e-01],\n",
       "        [3.94736636e-01, 3.73635458e-01, 1.98752114e-01]],\n",
       "\n",
       "       [[8.88105035e-04, 6.52682139e-01, 2.90311795e-01],\n",
       "        [4.47671935e-01, 2.44760802e-02, 3.85866106e-01]]])"
      ]
     },
     "execution_count": 57,
     "metadata": {},
     "output_type": "execute_result"
    }
   ],
   "source": [
    "random_array_3 = np.random.rand(3, 2, 3)\n",
    "random_array_3"
   ]
  },
  {
   "cell_type": "code",
   "execution_count": 108,
   "id": "0bc781cc-d6d8-4761-a457-dfbc9f6eeb12",
   "metadata": {},
   "outputs": [
    {
     "data": {
      "text/plain": [
       "array([[6, 3],\n",
       "       [7, 4],\n",
       "       [6, 9]], dtype=int32)"
      ]
     },
     "execution_count": 108,
     "metadata": {},
     "output_type": "execute_result"
    }
   ],
   "source": [
    "# Mengatur agar angka tetap sama / tidak berubah\n",
    "np.random.seed(42)\n",
    "random_array_4 = np.random.randint(0, 10, size=(3, 2))\n",
    "random_array_4"
   ]
  },
  {
   "cell_type": "markdown",
   "id": "580d3d07-78f3-4c83-a8d5-8d372fef75f5",
   "metadata": {},
   "source": [
    "## Viewing arrays & metric"
   ]
  },
  {
   "cell_type": "code",
   "execution_count": 116,
   "id": "dc2f8d24-0688-45a3-b65f-a285b6ff7c25",
   "metadata": {},
   "outputs": [
    {
     "data": {
      "text/plain": [
       "array([[[11,  8, 12],\n",
       "        [ 9, 11, 14],\n",
       "        [ 7, 11, 12]],\n",
       "\n",
       "       [[ 9,  8, 12],\n",
       "        [12,  7, 10],\n",
       "        [ 9,  6, 12]],\n",
       "\n",
       "       [[10,  6,  9],\n",
       "        [ 5, 14, 10],\n",
       "        [13,  5, 14]]], dtype=int32)"
      ]
     },
     "execution_count": 116,
     "metadata": {},
     "output_type": "execute_result"
    }
   ],
   "source": [
    "np.random.seed(42)\n",
    "random_array_5 = np.random.randint(5, 15, size=(3 , 3, 3))\n",
    "random_array_5"
   ]
  },
  {
   "cell_type": "code",
   "execution_count": 117,
   "id": "309d052e-a595-4b7f-b656-6b8f05216fd6",
   "metadata": {},
   "outputs": [
    {
     "data": {
      "text/plain": [
       "array([ 5,  6,  7,  8,  9, 10, 11, 12, 13, 14], dtype=int32)"
      ]
     },
     "execution_count": 117,
     "metadata": {},
     "output_type": "execute_result"
    }
   ],
   "source": [
    "np.unique(random_array_5)"
   ]
  },
  {
   "cell_type": "code",
   "execution_count": 126,
   "id": "19a3c345-cd89-432b-86a8-0fd671e64076",
   "metadata": {},
   "outputs": [
    {
     "data": {
      "text/plain": [
       "array([[[14]]], dtype=int32)"
      ]
     },
     "execution_count": 126,
     "metadata": {},
     "output_type": "execute_result"
    }
   ],
   "source": [
    "random_array_5[2:3, 1:2, 1:2]"
   ]
  },
  {
   "cell_type": "code",
   "execution_count": 132,
   "id": "211c74ad-6c0d-4afc-9b3f-6989248dad5e",
   "metadata": {},
   "outputs": [
    {
     "data": {
      "text/plain": [
       "array([[[[4, 3],\n",
       "         [1, 3],\n",
       "         [9, 9]],\n",
       "\n",
       "        [[2, 9],\n",
       "         [0, 7],\n",
       "         [4, 3]],\n",
       "\n",
       "        [[7, 6],\n",
       "         [1, 0],\n",
       "         [3, 7]],\n",
       "\n",
       "        [[1, 2],\n",
       "         [0, 0],\n",
       "         [2, 4]]],\n",
       "\n",
       "\n",
       "       [[[2, 0],\n",
       "         [0, 7],\n",
       "         [9, 1]],\n",
       "\n",
       "        [[2, 1],\n",
       "         [2, 6],\n",
       "         [0, 9]],\n",
       "\n",
       "        [[7, 9],\n",
       "         [9, 9],\n",
       "         [1, 2]],\n",
       "\n",
       "        [[8, 6],\n",
       "         [3, 9],\n",
       "         [4, 1]]],\n",
       "\n",
       "\n",
       "       [[[7, 3],\n",
       "         [8, 4],\n",
       "         [8, 3]],\n",
       "\n",
       "        [[9, 4],\n",
       "         [8, 7],\n",
       "         [2, 0]],\n",
       "\n",
       "        [[2, 3],\n",
       "         [1, 0],\n",
       "         [6, 7]],\n",
       "\n",
       "        [[6, 4],\n",
       "         [0, 6],\n",
       "         [6, 8]]]], dtype=int32)"
      ]
     },
     "execution_count": 132,
     "metadata": {},
     "output_type": "execute_result"
    }
   ],
   "source": [
    "# Create array 4 Dimension\n",
    "random_array_6 = np.random.randint(0, 10, size=(3, 4, 3, 2))\n",
    "random_array_6"
   ]
  },
  {
   "cell_type": "code",
   "execution_count": 128,
   "id": "a0b076a0-5ce7-464a-9990-e6c6c8da55ab",
   "metadata": {},
   "outputs": [
    {
     "data": {
      "text/plain": [
       "(5, 4, 3, 2)"
      ]
     },
     "execution_count": 128,
     "metadata": {},
     "output_type": "execute_result"
    }
   ],
   "source": [
    "random_array_6.shape"
   ]
  },
  {
   "cell_type": "code",
   "execution_count": null,
   "id": "f075d8bd-e052-401b-9dc3-fe64de196aed",
   "metadata": {},
   "outputs": [],
   "source": []
  }
 ],
 "metadata": {
  "kernelspec": {
   "display_name": "Python 3 (ipykernel)",
   "language": "python",
   "name": "python3"
  },
  "language_info": {
   "codemirror_mode": {
    "name": "ipython",
    "version": 3
   },
   "file_extension": ".py",
   "mimetype": "text/x-python",
   "name": "python",
   "nbconvert_exporter": "python",
   "pygments_lexer": "ipython3",
   "version": "3.13.5"
  },
  "widgets": {
   "application/vnd.jupyter.widget-state+json": {
    "state": {},
    "version_major": 2,
    "version_minor": 0
   }
  }
 },
 "nbformat": 4,
 "nbformat_minor": 5
}
